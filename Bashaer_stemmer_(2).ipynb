{
  "nbformat": 4,
  "nbformat_minor": 0,
  "metadata": {
    "colab": {
      "name": "Bashaer_stemmer (2).ipynb",
      "provenance": [],
      "collapsed_sections": []
    },
    "kernelspec": {
      "name": "python3",
      "display_name": "Python 3"
    },
    "language_info": {
      "name": "python"
    }
  },
  "cells": [
    {
      "cell_type": "code",
      "metadata": {
        "id": "zb2ukVxmcycX"
      },
      "source": [
        "The_list=[\"فعيلتها\",\"فعيلته\",\"يتفعل\",\"تتفعل\",\"افتعاليه\",\"افتعالية\",\"افتعالي\",\"تفعلت\",\"فعلة\",\"افعلت\",\"فعلي\",\"بفعل\",\"سنفعله\",\"ستفعلونه\",\"ستفعلوه\",\"سيفعلونه\",\"سيفعلوه\",\"ستفعله\",\"سيفعله\",\"فعله\",\"نفعله\",\"تفعلونه\",\"تفعلوه\",\"يفعلونه\",\"يفعلوه\",\"تفعله\",\"يفعله\",\"متفعلة\",\"متفعل\",\"فعلية\",\"استفعالات\",\"مفاعل\",\"مفعلة\",\"مفعلات\",\"انفعالات\",\"لنفعل\",\"ليفعلن\",\"ليفعلوا\",\"لتفعلوا\",\"لأفعل\",\"ليفعل\",\"لتفعلي\",\"لتفعل\",\"يفعل\",\"تفعل\",\"افعل\",\"اتفعل\",\"نفعل\",\"يفعلوا\",\"يفعلن\",\"فعلل\",\"يفعلل\",\"تفعلل\",\"افعلل\",\"فعللة\",\"فاعل\",\"فاعلة\",\"فاعلان\",\"فاعلون\",\"استفعل\",\"استفعال\",\"استفعلت\",\"مستفعل\", \"استفعلوا\",\"انفعل\",\"انفعلت\",\"انفعال\",\"انفعلوا\",\"انفعلن\",\"مفتعل\",\"مفتعلة\",\"افتعال\",\"افتعل\",\"افتعلت\",\"مفعول\",\"مفاعيل\",\"تفعيل\",\"فعيل\",\"فعيلة\",\"مفعل\",\"مفعلة\",\"مفعلون\",\"افعل\",\"افعلي\",\"افعلوا\",\"افعلن\",\"تفاعل\",\"تفاعلات\",\"يفاعل\",\"افاعل\",\"يفاعلوا\",\"يفاعلن\",\"يتفاعل\",\"تتفاعل\",\"يتفاعلوا\",\"يتفاعلن\",\"اتفاعل\",\"ينفعل\",\"تنفعل\",\"انفعل\",\"ينفعلوا\",\"انفعلوا\",\"انفعلن\",\"ينفعلن\",\"يفتعل\",\"تفتعل\",\"يفتعلوا\",\"افتعلوا\",\"افتعلن\",\"يفتعلن\",\"يستفعل\",\"تستفعل\",\"يستفعلوا\",\"استفعلوا\",\"يستفعلون\",\"استفعلن\",\"استفعل\",\"استفعلت\",\"فعال\",\"فعالة\",\"فعالين\",\"فعالون\",\"افتعالة\",\"فعول\",\"الفعول\",\"فواعل\",\"متفاعل\",\"متفاعلة\",\"متفاعلون\",\"متفاعلين\",\"متفاعلات\",\"افعال\",\"فعلا\",\"مفاعلة\",\"افعلة\",\"فعلات\",\"فعلين\",\"افعال\",\"تفعيلة\",\"فعلوهم\",\"فعل\",\"فعلت\",\"فعلوا\",\"فعلن\"]"
      ],
      "execution_count": null,
      "outputs": []
    },
    {
      "cell_type": "code",
      "metadata": {
        "colab": {
          "base_uri": "https://localhost:8080/"
        },
        "id": "KJif6dKzc0rG",
        "outputId": "0f4b8453-1309-4848-d49d-5f12d0b1e64c"
      },
      "source": [
        "The_list=set(The_list)\n",
        "len(The_list)"
      ],
      "execution_count": null,
      "outputs": [
        {
          "output_type": "execute_result",
          "data": {
            "text/plain": [
              "135"
            ]
          },
          "metadata": {},
          "execution_count": 23
        }
      ]
    },
    {
      "cell_type": "code",
      "metadata": {
        "colab": {
          "base_uri": "https://localhost:8080/"
        },
        "id": "4O5eC2_fc0uA",
        "outputId": "5055441e-5517-4de1-d218-42f1a7c61e4e"
      },
      "source": [
        "word=\"اموال\"\n",
        "The_word=word\n",
        "for x in range(5):\n",
        "\n",
        "  if len(word):\n",
        "  \n",
        "   if len(word)>=5:\n",
        "     #وا\n",
        "     if word.endswith(\"وا\"):\n",
        "        word=word.replace(\"وا\",\"\")\n",
        "      #ون\n",
        "     elif word.endswith(\"ون\"):\n",
        "        word=word.replace(\"ون\",\"\")\n",
        "       #ها\n",
        "     elif word.endswith(\"ها\"):\n",
        "         word=word.replace(\"ها\",\"\")\n",
        "       #هن\n",
        "     elif word.endswith(\"هن\"):\n",
        "         word=word.replace(\"هن\",\"\")\n",
        "       #هم\n",
        "     elif word.endswith(\"هم\"):\n",
        "         word=word.replace(\"هم\",\"\")\n",
        "         #ان\n",
        "     elif word.endswith(\"ان\"):\n",
        "          word=word.replace(\"ان\",\"\")\n",
        "        #كن\n",
        "     elif word.endswith(\"كن\"):\n",
        "          word=word.replace(\"كن\",\"\")\n",
        "        #ات\n",
        "     elif word.endswith(\"ات\"):\n",
        "          word=word.replace(\"ات\",\"\")\n",
        "\n",
        "  if len(word)>=6:\n",
        "      #هما\n",
        "      if word.endswith(\"هما\"):\n",
        "       word=word.replace(\"هما\",\"\")\n",
        " \n",
        "\n",
        "  if len(word)>=5:###############\n",
        "     #ال\n",
        "     if word[0]==\"ا\" and word[1]==\"ل\":\n",
        "       word=word.replace(\"ال\",\"\")\n",
        "     #فل\n",
        "     elif word[0]==\"ف\" and  word[1]==\"ل\":\n",
        "       word=word.replace(\"فل\",\"\")   \n",
        "     #لي\n",
        "     elif word[0]==\"ل\" and  word[1]==\"ي\":\n",
        "       word=word.replace(\"لي\",\"\")\n",
        "\n",
        "  if len(word)>=6:\n",
        "    #وست\n",
        "     if word[0]==\"و\" and  word[1]==\"س\" and word[2]==\"ت\":\n",
        "       word=word.replace(\"وست\",\"\")\n",
        "     #ولل\n",
        "     elif word[0]==\"و\" and  word[1]==\"ل\" and word[2]==\"ل\":\n",
        "       word=word.replace(\"ولل\",\"\")\n",
        "     #كال\n",
        "     elif word[0]==\"ك\" and word[1]==\"ا\" and word[2]==\"ل\":\n",
        "       word=word.replace(\"كال\",\"\")\n",
        "     #وال\n",
        "     elif word[0]==\"و\" and word[1]==\"ا\" and word[2]==\"ل\":\n",
        "       word=word.replace(\"وال\",\"\")\n",
        "     #فال\n",
        "     elif word[0]==\"ف\" and word[1]==\"ا\" and word[2]==\"ل\":\n",
        "       word=word.replace(\"فال\",\"\")\n",
        "     #بال\n",
        "     elif word[0]==\"ب\" and word[1]==\"ا\" and word[2]==\"ل\":\n",
        "        word=word.replace(\"بال\",\"\")\n",
        "      #لل\n",
        "     elif word[0]==\"ل\" and word[1]==\"ل\":\n",
        "       word=word.replace(\"لل\",\"\")\n",
        "\n",
        "print(word)"
      ],
      "execution_count": null,
      "outputs": [
        {
          "output_type": "stream",
          "name": "stdout",
          "text": [
            "اموال\n"
          ]
        }
      ]
    },
    {
      "cell_type": "code",
      "metadata": {
        "colab": {
          "base_uri": "https://localhost:8080/"
        },
        "id": "YueXvX4Vc0xj",
        "outputId": "fab30f78-fdf1-4d39-9a8c-9e20c45167ab"
      },
      "source": [
        "#word=\"استخرج\"\n",
        "root=\"\"\n",
        "lenght=len(word)\n",
        "M_list=[]\n",
        "for x in The_list:\n",
        "  if len(x)==lenght:\n",
        "    M_list.append(x)\n",
        "#print(M_list)\n",
        "\n",
        "position=0\n",
        "remain=0\n",
        "for x in M_list:\n",
        "  for y in x:\n",
        "    \n",
        "    if y!=('ف') and y!=('ع') and y!=('ل'):\n",
        "      #print(x)\n",
        "      if y==word[position]:\n",
        "        remain+=1\n",
        "    #print(remain)\n",
        "    position+=1\n",
        " \n",
        "  #print(remain)\n",
        "  #print(lenght-3)\n",
        "  if remain==lenght-3:\n",
        "   # print(x)\n",
        "   # print(x.count('ل'))\n",
        "    r1 = x.index('ف')\n",
        "    r2 = x.index('ع')\n",
        "    r3 = x.index('ل')\n",
        "    \n",
        "    #print(x)\n",
        "    root=word[r1]+word[r2]+word[r3]\n",
        "    print(\"the root of the word '\"+ The_word +\"' is :\" +root)\n",
        "    break\n",
        "  else:\n",
        "    position=0\n",
        "    remain=0"
      ],
      "execution_count": null,
      "outputs": [
        {
          "output_type": "stream",
          "name": "stdout",
          "text": [
            "['يفعله', 'اتفعل', 'ليفعل', 'فعلوا', 'مفعلة', 'تفعلت', 'يفعلن', 'فعلات', 'لنفعل', 'فواعل', 'تفعله', 'ينفعل', 'فعيلة', 'فعلية', 'تتفعل', 'افعال', 'فعللة', 'لأفعل', 'افعلة', 'مفاعل', 'تفتعل', 'لتفعل', 'افعلن', 'يفاعل', 'افتعل', 'افعلل', 'فعالة', 'فاعلة', 'تفعيل', 'مفعول', 'يفعلل', 'مفتعل', 'تفعلل', 'افعلي', 'يفتعل', 'انفعل', 'افعلت', 'يتفعل', 'فعلين', 'تنفعل', 'افاعل', 'تفاعل', 'نفعله', 'متفعل']\n",
            "افعال\n",
            "the root of the word 'اموال' is :مول\n"
          ]
        }
      ]
    }
  ]
}